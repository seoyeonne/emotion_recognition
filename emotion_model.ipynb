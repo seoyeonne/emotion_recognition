{
 "cells": [
  {
   "cell_type": "code",
   "execution_count": 4,
   "metadata": {},
   "outputs": [
    {
     "name": "stdout",
     "output_type": "stream",
     "text": [
      "Collecting kaggle\n",
      "  Downloading kaggle-1.5.13.tar.gz (63 kB)\n",
      "\u001b[K     |████████████████████████████████| 63 kB 2.2 MB/s  eta 0:00:01\n",
      "\u001b[?25hRequirement already satisfied, skipping upgrade: six>=1.10 in /Users/hwangseoyeon/opt/anaconda3/lib/python3.8/site-packages (from kaggle) (1.15.0)\n",
      "Requirement already satisfied, skipping upgrade: certifi in /Users/hwangseoyeon/opt/anaconda3/lib/python3.8/site-packages (from kaggle) (2020.6.20)\n",
      "Requirement already satisfied, skipping upgrade: python-dateutil in /Users/hwangseoyeon/opt/anaconda3/lib/python3.8/site-packages (from kaggle) (2.8.1)\n",
      "Requirement already satisfied, skipping upgrade: requests in /Users/hwangseoyeon/opt/anaconda3/lib/python3.8/site-packages (from kaggle) (2.24.0)\n",
      "Requirement already satisfied, skipping upgrade: tqdm in /Users/hwangseoyeon/opt/anaconda3/lib/python3.8/site-packages (from kaggle) (4.50.2)\n",
      "Collecting python-slugify\n",
      "  Downloading python_slugify-8.0.1-py2.py3-none-any.whl (9.7 kB)\n",
      "Requirement already satisfied, skipping upgrade: urllib3 in /Users/hwangseoyeon/opt/anaconda3/lib/python3.8/site-packages (from kaggle) (1.25.11)\n",
      "Requirement already satisfied, skipping upgrade: idna<3,>=2.5 in /Users/hwangseoyeon/opt/anaconda3/lib/python3.8/site-packages (from requests->kaggle) (2.10)\n",
      "Requirement already satisfied, skipping upgrade: chardet<4,>=3.0.2 in /Users/hwangseoyeon/opt/anaconda3/lib/python3.8/site-packages (from requests->kaggle) (3.0.4)\n",
      "Collecting text-unidecode>=1.3\n",
      "  Downloading text_unidecode-1.3-py2.py3-none-any.whl (78 kB)\n",
      "\u001b[K     |████████████████████████████████| 78 kB 19.0 MB/s eta 0:00:01\n",
      "\u001b[?25hBuilding wheels for collected packages: kaggle\n",
      "  Building wheel for kaggle (setup.py) ... \u001b[?25ldone\n",
      "\u001b[?25h  Created wheel for kaggle: filename=kaggle-1.5.13-py3-none-any.whl size=77722 sha256=abd4494bbdb78be1b4bfc74d7acd55fe67bae749d082d353b88f70aaecb2be09\n",
      "  Stored in directory: /Users/hwangseoyeon/Library/Caches/pip/wheels/e6/8e/67/e07554a720a493dc6b39b30488590ba92ed45448ad0134d253\n",
      "Successfully built kaggle\n",
      "Installing collected packages: text-unidecode, python-slugify, kaggle\n",
      "Successfully installed kaggle-1.5.13 python-slugify-8.0.1 text-unidecode-1.3\n"
     ]
    }
   ],
   "source": [
    "!pip install kaggle --upgrade"
   ]
  },
  {
   "cell_type": "code",
   "execution_count": 5,
   "metadata": {},
   "outputs": [],
   "source": [
    "!mkdir -p ~/.kaggle\n",
    "!cp kaggle.json ~/.kaggle\n",
    "!chmod 600 ~/.kaggle/kaggle.json"
   ]
  },
  {
   "cell_type": "code",
   "execution_count": 6,
   "metadata": {},
   "outputs": [
    {
     "name": "stdout",
     "output_type": "stream",
     "text": [
      "kaggle.json\r\n"
     ]
    }
   ],
   "source": [
    "!ls -1ha kaggle.json"
   ]
  },
  {
   "cell_type": "code",
   "execution_count": 9,
   "metadata": {},
   "outputs": [
    {
     "name": "stdout",
     "output_type": "stream",
     "text": [
      "Downloading challenges-in-representation-learning-facial-expression-recognition-challenge.zip to /Users/hwangseoyeon/PythonImageWorkSpace/Emotion Recognition\n",
      "100%|███████████████████████████████████████▉| 285M/285M [00:29<00:00, 10.1MB/s]\n",
      "100%|████████████████████████████████████████| 285M/285M [00:29<00:00, 10.3MB/s]\n"
     ]
    }
   ],
   "source": [
    "!kaggle competitions download -c challenges-in-representation-learning-facial-expression-recognition-challenge"
   ]
  },
  {
   "cell_type": "code",
   "execution_count": 1,
   "metadata": {},
   "outputs": [],
   "source": [
    "import math\n",
    "import numpy as np\n",
    "import pandas as pd\n",
    "\n",
    "#import scikitplot\n",
    "import seaborn as sns\n",
    "from matplotlib import pyplot\n",
    "\n",
    "from sklearn.model_selection import train_test_split\n",
    "from sklearn.preprocessing import LabelEncoder\n",
    "from sklearn.metrics import classification_report\n",
    "\n",
    "import tensorflow as tf\n",
    "from tensorflow.keras import optimizers\n",
    "from tensorflow.keras.datasets import mnist\n",
    "from tensorflow.keras import models\n",
    "from tensorflow.keras.models import Sequential\n",
    "from tensorflow.keras.layers import Flatten, Dense, Conv2D, MaxPooling2D\n",
    "from tensorflow.keras.layers import Dropout, BatchNormalization, LeakyReLU, Activation\n",
    "from tensorflow.keras.callbacks import Callback, EarlyStopping, ModelCheckpoint\n",
    "from tensorflow.keras.preprocessing.image import ImageDataGenerator\n",
    "\n",
    "from keras.utils import np_utils"
   ]
  },
  {
   "cell_type": "code",
   "execution_count": 2,
   "metadata": {},
   "outputs": [
    {
     "name": "stdout",
     "output_type": "stream",
     "text": [
      "Successfully read the CSV file: Emotion Recognition/icml_face_data.csv\n"
     ]
    }
   ],
   "source": [
    "import zipfile\n",
    "import os\n",
    "import pandas as pd\n",
    "\n",
    "zip_file_path = 'challenges-in-representation-learning-facial-expression-recognition-challenge.zip'\n",
    "\n",
    "extracted_dir = 'Emotion Recognition'\n",
    "\n",
    "with zipfile.ZipFile(zip_file_path, 'r') as zip_ref:\n",
    "    zip_ref.extractall(extracted_dir)\n",
    "\n",
    "# Find the extracted CSV file\n",
    "csv_file = None\n",
    "for file in os.listdir(extracted_dir):\n",
    "    if file.endswith('.csv'):\n",
    "        csv_file = os.path.join(extracted_dir, file)\n",
    "        break\n",
    "\n",
    "if csv_file is not None:\n",
    "    data = pd.read_csv(csv_file)\n",
    "    print(f'Successfully read the CSV file: {csv_file}')\n",
    "else:\n",
    "    print('No CSV file found in the extracted folder.')"
   ]
  },
  {
   "cell_type": "code",
   "execution_count": 3,
   "metadata": {},
   "outputs": [
    {
     "name": "stdout",
     "output_type": "stream",
     "text": [
      "{0: 'Angry', 1: 'Disgust', 2: 'Fear', 3: 'Happy', 4: 'Sad', 5: 'Surprise', 6: 'Neutral'}\n"
     ]
    }
   ],
   "source": [
    "emotions = {0: 'Angry', 1: 'Disgust', 2: 'Fear', 3: 'Happy', 4: 'Sad', 5: 'Surprise', 6: 'Neutral'}\n",
    "print(emotions)"
   ]
  },
  {
   "cell_type": "code",
   "execution_count": 4,
   "metadata": {},
   "outputs": [
    {
     "data": {
      "text/html": [
       "<div>\n",
       "<style scoped>\n",
       "    .dataframe tbody tr th:only-of-type {\n",
       "        vertical-align: middle;\n",
       "    }\n",
       "\n",
       "    .dataframe tbody tr th {\n",
       "        vertical-align: top;\n",
       "    }\n",
       "\n",
       "    .dataframe thead th {\n",
       "        text-align: right;\n",
       "    }\n",
       "</style>\n",
       "<table border=\"1\" class=\"dataframe\">\n",
       "  <thead>\n",
       "    <tr style=\"text-align: right;\">\n",
       "      <th></th>\n",
       "      <th>emotion</th>\n",
       "      <th>Usage</th>\n",
       "      <th>pixels</th>\n",
       "    </tr>\n",
       "  </thead>\n",
       "  <tbody>\n",
       "    <tr>\n",
       "      <th>0</th>\n",
       "      <td>0</td>\n",
       "      <td>Training</td>\n",
       "      <td>70 80 82 72 58 58 60 63 54 58 60 48 89 115 121...</td>\n",
       "    </tr>\n",
       "    <tr>\n",
       "      <th>1</th>\n",
       "      <td>0</td>\n",
       "      <td>Training</td>\n",
       "      <td>151 150 147 155 148 133 111 140 170 174 182 15...</td>\n",
       "    </tr>\n",
       "    <tr>\n",
       "      <th>2</th>\n",
       "      <td>2</td>\n",
       "      <td>Training</td>\n",
       "      <td>231 212 156 164 174 138 161 173 182 200 106 38...</td>\n",
       "    </tr>\n",
       "    <tr>\n",
       "      <th>3</th>\n",
       "      <td>4</td>\n",
       "      <td>Training</td>\n",
       "      <td>24 32 36 30 32 23 19 20 30 41 21 22 32 34 21 1...</td>\n",
       "    </tr>\n",
       "    <tr>\n",
       "      <th>4</th>\n",
       "      <td>6</td>\n",
       "      <td>Training</td>\n",
       "      <td>4 0 0 0 0 0 0 0 0 0 0 0 3 15 23 28 48 50 58 84...</td>\n",
       "    </tr>\n",
       "  </tbody>\n",
       "</table>\n",
       "</div>"
      ],
      "text/plain": [
       "   emotion     Usage                                             pixels\n",
       "0        0  Training  70 80 82 72 58 58 60 63 54 58 60 48 89 115 121...\n",
       "1        0  Training  151 150 147 155 148 133 111 140 170 174 182 15...\n",
       "2        2  Training  231 212 156 164 174 138 161 173 182 200 106 38...\n",
       "3        4  Training  24 32 36 30 32 23 19 20 30 41 21 22 32 34 21 1...\n",
       "4        6  Training  4 0 0 0 0 0 0 0 0 0 0 0 3 15 23 28 48 50 58 84..."
      ]
     },
     "execution_count": 4,
     "metadata": {},
     "output_type": "execute_result"
    }
   ],
   "source": [
    "data.head()"
   ]
  },
  {
   "cell_type": "code",
   "execution_count": 5,
   "metadata": {},
   "outputs": [
    {
     "data": {
      "text/plain": [
       "array([0, 2, 4, 6, 3, 5, 1])"
      ]
     },
     "execution_count": 5,
     "metadata": {},
     "output_type": "execute_result"
    }
   ],
   "source": [
    "data.emotion.unique()"
   ]
  },
  {
   "cell_type": "code",
   "execution_count": 6,
   "metadata": {},
   "outputs": [
    {
     "name": "stdout",
     "output_type": "stream",
     "text": [
      "train shape (28709, 48, 48, 1)\n",
      "validation shape (3589, 48, 48, 1)\n",
      "validatio shape (3589, 48, 48, 1)\n"
     ]
    }
   ],
   "source": [
    "from keras.utils import to_categorical\n",
    "def parse_data(data):\n",
    "    image_array = np.zeros(shape=(len(data), 48, 48, 1))\n",
    "    image_label = np.array(list(map(int, data['emotion'])))\n",
    "    \n",
    "    for i, row in enumerate(data.index):\n",
    "        image = np.fromstring(data.loc[row, ' pixels'], dtype=int, sep=' ')\n",
    "        image = np.reshape(image, (48, 48, 1))\n",
    "        image_array[i] = image\n",
    "        \n",
    "    return image_array, image_label\n",
    "\n",
    "train_imgs, train_lbls = parse_data(data[data[\" Usage\"] == \"Training\"])\n",
    "val_imgs, val_lbls = parse_data(data[data[\" Usage\"] == \"PrivateTest\"])\n",
    "test_imgs, test_lbls = parse_data(data[data[\" Usage\"] == \"PublicTest\"])\n",
    "\n",
    "print(\"train shape\", np.shape(train_imgs))\n",
    "print(\"validation shape\", np.shape(val_imgs))\n",
    "print(\"validatio shape\", np.shape(val_imgs))"
   ]
  },
  {
   "cell_type": "code",
   "execution_count": 7,
   "metadata": {},
   "outputs": [],
   "source": [
    "train_images = train_imgs.reshape((train_imgs.shape[0], 48, 48, 1))\n",
    "#train_images = train_images.astype('float32')//255.0\n",
    "val_images = val_imgs.reshape((val_imgs.shape[0], 48, 48, 1))\n",
    "#val_images = val_images.astype('float32')//255.0\n",
    "test_images = test_imgs.reshape((test_imgs.shape[0], 48, 48, 1))\n",
    "#test_images = test_images.astype('float32')//255.0\n",
    "\n",
    "train_labels = to_categorical(train_lbls)\n",
    "val_labels = to_categorical(val_lbls)\n",
    "test_labels = to_categorical(test_lbls)"
   ]
  },
  {
   "cell_type": "code",
   "execution_count": 38,
   "metadata": {},
   "outputs": [],
   "source": [
    "from keras.preprocessing.image import ImageDataGenerator\n",
    "\n",
    "datagen = ImageDataGenerator(\n",
    "    rotation_range=20,\n",
    "    width_shift_range=0.2,\n",
    "    height_shift_range=0.2,\n",
    "    shear_range=0.2,\n",
    "    zoom_range=0.2\n",
    ")\n",
    "\n",
    "train_generator = datagen.flow(\n",
    "    x=train_images,  \n",
    "    y=train_labels,  \n",
    "    batch_size=64,\n",
    "    shuffle=False)\n",
    "\n",
    "val_generator = datagen.flow(\n",
    "    x=val_images,  \n",
    "    y=val_labels ,  \n",
    "    batch_size=64,\n",
    "    shuffle=False)"
   ]
  },
  {
   "cell_type": "code",
   "execution_count": 39,
   "metadata": {},
   "outputs": [
    {
     "data": {
      "image/png": "[encoded data removed]",
      "text/plain": [
       "<Figure size 432x288 with 1 Axes>"
      ]
     },
     "metadata": {
      "needs_background": "light"
     },
     "output_type": "display_data"
    },
    {
     "data": {
      "text/plain": [
       "(48, 48, 1)"
      ]
     },
     "execution_count": 39,
     "metadata": {},
     "output_type": "execute_result"
    }
   ],
   "source": [
    "import matplotlib.pyplot as plt\n",
    "\n",
    "# Get the first batch of images and labels from the validation generator\n",
    "batch_images, batch_labels = next(train_generator)\n",
    "\n",
    "# Plot the first image in the batch\n",
    "plt.imshow(batch_images[31])\n",
    "plt.show()\n",
    "\n",
    "batch_images[1].shape"
   ]
  },
  {
   "cell_type": "code",
   "execution_count": 40,
   "metadata": {},
   "outputs": [
    {
     "data": {
      "text/plain": [
       "<matplotlib.image.AxesImage at 0x7f9bb8c33100>"
      ]
     },
     "execution_count": 40,
     "metadata": {},
     "output_type": "execute_result"
    },
    {
     "data": {
      "image/png": "[encoded data removed]",
      "text/plain": [
       "<Figure size 432x288 with 1 Axes>"
      ]
     },
     "metadata": {
      "needs_background": "light"
     },
     "output_type": "display_data"
    }
   ],
   "source": [
    "import matplotlib.pyplot as plt\n",
    "\n",
    "plt.imshow(train_imgs[0])"
   ]
  },
  {
   "cell_type": "code",
   "execution_count": 41,
   "metadata": {},
   "outputs": [
    {
     "data": {
      "image/png": "[encoded data removed]",
      "text/plain": [
       "<Figure size 2160x864 with 7 Axes>"
      ]
     },
     "metadata": {
      "needs_background": "light"
     },
     "output_type": "display_data"
    }
   ],
   "source": [
    "def plot_all_emotions():\n",
    "    fig, axs = plt.subplots(1, 7, figsize=(30, 12))\n",
    "    fig.subplots_adjust(hspace = .2, wspace=.2)\n",
    "    axs = axs.ravel()\n",
    "    for i in range(7):\n",
    "        idx = data[data['emotion']==i].index[i]\n",
    "        axs[i].imshow(train_images[idx][:,:,0], cmap='gray')\n",
    "        axs[i].set_title(emotions[train_labels[idx].argmax()])\n",
    "        axs[i].set_xticklabels([])\n",
    "        axs[i].set_yticklabels([])\n",
    "\n",
    "plot_all_emotions()"
   ]
  },
  {
   "cell_type": "code",
   "execution_count": 42,
   "metadata": {},
   "outputs": [],
   "source": [
    "def plot_compare_distributions(array1, array2, title1='', title2=''):\n",
    "    df_array1 = pd.DataFrame()\n",
    "    df_array2 = pd.DataFrame()\n",
    "    df_array1['emotion'] = array1.argmax(axis=1)\n",
    "    df_array2['emotion'] = array2.argmax(axis=1)\n",
    "    \n",
    "    fig, axs = plt.subplots(1, 2, figsize=(12, 6), sharey=False)\n",
    "    x = emotions.values()\n",
    "    \n",
    "    y = df_array1['emotion'].value_counts()\n",
    "    keys_missed = list(set(emotions.keys()).difference(set(y.keys())))\n",
    "    for key_missed in keys_missed:\n",
    "        y[key_missed] = 0\n",
    "    axs[0].bar(x, y.sort_index(), color='orange')\n",
    "    axs[0].set_title(title1)\n",
    "    axs[0].grid()\n",
    "    \n",
    "    y = df_array2['emotion'].value_counts()\n",
    "    keys_missed = list(set(emotions.keys()).difference(set(y.keys())))\n",
    "    for key_missed in keys_missed:\n",
    "        y[key_missed] = 0\n",
    "    axs[1].bar(x, y.sort_index())\n",
    "    axs[1].set_title(title2)\n",
    "    axs[1].grid()\n",
    "    \n",
    "    plt.show()"
   ]
  },
  {
   "cell_type": "code",
   "execution_count": 43,
   "metadata": {},
   "outputs": [
    {
     "data": {
      "image/png": "[encoded data removed]",
      "text/plain": [
       "<Figure size 864x432 with 2 Axes>"
      ]
     },
     "metadata": {
      "needs_background": "light"
     },
     "output_type": "display_data"
    }
   ],
   "source": [
    "plot_compare_distributions(train_labels, val_labels, title1='train labels', title2='val labels')"
   ]
  },
  {
   "cell_type": "code",
   "execution_count": 50,
   "metadata": {},
   "outputs": [
    {
     "name": "stdout",
     "output_type": "stream",
     "text": [
      "Model: \"sequential_17\"\n",
      "_________________________________________________________________\n",
      " Layer (type)                Output Shape              Param #   \n",
      "=================================================================\n",
      " conv2d_67 (Conv2D)          (None, 48, 48, 32)        320       \n",
      "                                                                 \n",
      " batch_normalization_85 (Bat  (None, 48, 48, 32)       128       \n",
      " chNormalization)                                                \n",
      "                                                                 \n",
      " conv2d_68 (Conv2D)          (None, 48, 48, 32)        9248      \n",
      "                                                                 \n",
      " batch_normalization_86 (Bat  (None, 48, 48, 32)       128       \n",
      " chNormalization)                                                \n",
      "                                                                 \n",
      " max_pooling2d_25 (MaxPoolin  (None, 24, 24, 32)       0         \n",
      " g2D)                                                            \n",
      "                                                                 \n",
      " dropout_61 (Dropout)        (None, 24, 24, 32)        0         \n",
      "                                                                 \n",
      " conv2d_69 (Conv2D)          (None, 24, 24, 64)        18496     \n",
      "                                                                 \n",
      " batch_normalization_87 (Bat  (None, 24, 24, 64)       256       \n",
      " chNormalization)                                                \n",
      "                                                                 \n",
      " conv2d_70 (Conv2D)          (None, 24, 24, 64)        36928     \n",
      "                                                                 \n",
      " batch_normalization_88 (Bat  (None, 24, 24, 64)       256       \n",
      " chNormalization)                                                \n",
      "                                                                 \n",
      " max_pooling2d_26 (MaxPoolin  (None, 12, 12, 64)       0         \n",
      " g2D)                                                            \n",
      "                                                                 \n",
      " dropout_62 (Dropout)        (None, 12, 12, 64)        0         \n",
      "                                                                 \n",
      " conv2d_71 (Conv2D)          (None, 12, 12, 128)       73856     \n",
      "                                                                 \n",
      " batch_normalization_89 (Bat  (None, 12, 12, 128)      512       \n",
      " chNormalization)                                                \n",
      "                                                                 \n",
      " conv2d_72 (Conv2D)          (None, 12, 12, 128)       147584    \n",
      "                                                                 \n",
      " batch_normalization_90 (Bat  (None, 12, 12, 128)      512       \n",
      " chNormalization)                                                \n",
      "                                                                 \n",
      " max_pooling2d_27 (MaxPoolin  (None, 6, 6, 128)        0         \n",
      " g2D)                                                            \n",
      "                                                                 \n",
      " flatten_17 (Flatten)        (None, 4608)              0         \n",
      "                                                                 \n",
      " dense_47 (Dense)            (None, 64)                294976    \n",
      "                                                                 \n",
      " batch_normalization_91 (Bat  (None, 64)               256       \n",
      " chNormalization)                                                \n",
      "                                                                 \n",
      " dropout_63 (Dropout)        (None, 64)                0         \n",
      "                                                                 \n",
      " dense_48 (Dense)            (None, 7)                 455       \n",
      "                                                                 \n",
      "=================================================================\n",
      "Total params: 583,911\n",
      "Trainable params: 582,887\n",
      "Non-trainable params: 1,024\n",
      "_________________________________________________________________\n"
     ]
    }
   ],
   "source": [
    "from tensorflow.keras.models import Sequential\n",
    "from tensorflow.keras.layers import Conv2D, MaxPooling2D, BatchNormalization, Dropout, Flatten, Dense\n",
    "\n",
    "model = Sequential()\n",
    "\n",
    "# 첫번째 Convolution layer\n",
    "model.add(Conv2D(filters=32, kernel_size=(3,3), padding='same', activation='relu', input_shape=(48,48,1)))\n",
    "model.add(BatchNormalization())\n",
    "model.add(Conv2D(filters=32, kernel_size=(3,3), padding='same', activation='relu'))\n",
    "model.add(BatchNormalization())\n",
    "model.add(MaxPooling2D(pool_size=(2,2)))\n",
    "model.add(Dropout(0.25))\n",
    "\n",
    "# 두번째 Convolution layer\n",
    "model.add(Conv2D(filters=64, kernel_size=(3,3), padding='same', activation='relu'))\n",
    "model.add(BatchNormalization())\n",
    "model.add(Conv2D(filters=64, kernel_size=(3,3), padding='same', activation='relu'))\n",
    "model.add(BatchNormalization())\n",
    "model.add(MaxPooling2D(pool_size=(2,2)))\n",
    "model.add(Dropout(0.25))\n",
    "\n",
    "# 세번째 Convolution layer\n",
    "model.add(Conv2D(filters=128, kernel_size=(3,3), padding='same', activation='relu'))\n",
    "model.add(BatchNormalization())\n",
    "model.add(Conv2D(filters=128, kernel_size=(3,3), padding='same', activation='relu'))\n",
    "model.add(BatchNormalization())\n",
    "model.add(MaxPooling2D(pool_size=(2,2)))\n",
    "\n",
    "model.add(Flatten())\n",
    "model.add(Dense(64, activation='relu'))\n",
    "model.add(BatchNormalization())\n",
    "model.add(Dropout(0.2))\n",
    "model.add(Dense(7, activation='softmax'))\n",
    "\n",
    "model.summary()"
   ]
  },
  {
   "cell_type": "code",
   "execution_count": 52,
   "metadata": {},
   "outputs": [
    {
     "name": "stdout",
     "output_type": "stream",
     "text": [
      "Epoch 1/50\n",
      "448/448 [==============================] - ETA: 0s - loss: 1.9275 - accuracy: 0.2444\n",
      "Epoch 1: val_loss improved from inf to 1.87911, saving model to model.h5\n",
      "448/448 [==============================] - 226s 497ms/step - loss: 1.9275 - accuracy: 0.2444 - val_loss: 1.8791 - val_accuracy: 0.2517\n",
      "Epoch 2/50\n",
      "448/448 [==============================] - ETA: 0s - loss: 1.7284 - accuracy: 0.3123\n",
      "Epoch 2: val_loss improved from 1.87911 to 1.65965, saving model to model.h5\n",
      "448/448 [==============================] - 208s 465ms/step - loss: 1.7284 - accuracy: 0.3123 - val_loss: 1.6596 - val_accuracy: 0.3376\n",
      "Epoch 3/50\n",
      "448/448 [==============================] - ETA: 0s - loss: 1.5336 - accuracy: 0.4034\n",
      "Epoch 3: val_loss improved from 1.65965 to 1.51057, saving model to model.h5\n",
      "448/448 [==============================] - 194s 434ms/step - loss: 1.5336 - accuracy: 0.4034 - val_loss: 1.5106 - val_accuracy: 0.4090\n",
      "Epoch 4/50\n",
      "448/448 [==============================] - ETA: 0s - loss: 1.4288 - accuracy: 0.4516\n",
      "Epoch 4: val_loss improved from 1.51057 to 1.40785, saving model to model.h5\n",
      "448/448 [==============================] - 185s 414ms/step - loss: 1.4288 - accuracy: 0.4516 - val_loss: 1.4078 - val_accuracy: 0.4501\n",
      "Epoch 5/50\n",
      "448/448 [==============================] - ETA: 0s - loss: 1.3379 - accuracy: 0.4890\n",
      "Epoch 5: val_loss did not improve from 1.40785\n",
      "448/448 [==============================] - 185s 414ms/step - loss: 1.3379 - accuracy: 0.4890 - val_loss: 1.4954 - val_accuracy: 0.4799\n",
      "Epoch 6/50\n",
      "448/448 [==============================] - ETA: 0s - loss: 1.2823 - accuracy: 0.5093\n",
      "Epoch 6: val_loss improved from 1.40785 to 1.31633, saving model to model.h5\n",
      "448/448 [==============================] - 186s 414ms/step - loss: 1.2823 - accuracy: 0.5093 - val_loss: 1.3163 - val_accuracy: 0.4947\n",
      "Epoch 7/50\n",
      "448/448 [==============================] - ETA: 0s - loss: 1.2629 - accuracy: 0.5182\n",
      "Epoch 7: val_loss improved from 1.31633 to 1.30280, saving model to model.h5\n",
      "448/448 [==============================] - 185s 413ms/step - loss: 1.2629 - accuracy: 0.5182 - val_loss: 1.3028 - val_accuracy: 0.5170\n",
      "Epoch 8/50\n",
      "448/448 [==============================] - ETA: 0s - loss: 1.2163 - accuracy: 0.5415\n",
      "Epoch 8: val_loss improved from 1.30280 to 1.19641, saving model to model.h5\n",
      "448/448 [==============================] - 183s 408ms/step - loss: 1.2163 - accuracy: 0.5415 - val_loss: 1.1964 - val_accuracy: 0.5508\n",
      "Epoch 9/50\n",
      "448/448 [==============================] - ETA: 0s - loss: 1.1824 - accuracy: 0.5542\n",
      "Epoch 9: val_loss improved from 1.19641 to 1.18712, saving model to model.h5\n",
      "448/448 [==============================] - 184s 410ms/step - loss: 1.1824 - accuracy: 0.5542 - val_loss: 1.1871 - val_accuracy: 0.5477\n",
      "Epoch 10/50\n",
      "448/448 [==============================] - ETA: 0s - loss: 1.1588 - accuracy: 0.5621\n",
      "Epoch 10: val_loss improved from 1.18712 to 1.15563, saving model to model.h5\n",
      "448/448 [==============================] - 184s 410ms/step - loss: 1.1588 - accuracy: 0.5621 - val_loss: 1.1556 - val_accuracy: 0.5522\n",
      "Epoch 11/50\n",
      "448/448 [==============================] - ETA: 0s - loss: 1.1428 - accuracy: 0.5689\n",
      "Epoch 11: val_loss did not improve from 1.15563\n",
      "448/448 [==============================] - 183s 407ms/step - loss: 1.1428 - accuracy: 0.5689 - val_loss: 1.1720 - val_accuracy: 0.5745\n",
      "Epoch 12/50\n",
      "448/448 [==============================] - ETA: 0s - loss: 1.1296 - accuracy: 0.5720\n",
      "Epoch 12: val_loss improved from 1.15563 to 1.10953, saving model to model.h5\n",
      "448/448 [==============================] - 184s 411ms/step - loss: 1.1296 - accuracy: 0.5720 - val_loss: 1.1095 - val_accuracy: 0.5723\n",
      "Epoch 13/50\n",
      "448/448 [==============================] - ETA: 0s - loss: 1.1080 - accuracy: 0.5845\n",
      "Epoch 13: val_loss did not improve from 1.10953\n",
      "448/448 [==============================] - 183s 409ms/step - loss: 1.1080 - accuracy: 0.5845 - val_loss: 1.3348 - val_accuracy: 0.4992\n",
      "Epoch 14/50\n",
      "448/448 [==============================] - ETA: 0s - loss: 1.0945 - accuracy: 0.5899\n",
      "Epoch 14: val_loss improved from 1.10953 to 1.10553, saving model to model.h5\n",
      "448/448 [==============================] - 184s 410ms/step - loss: 1.0945 - accuracy: 0.5899 - val_loss: 1.1055 - val_accuracy: 0.5862\n",
      "Epoch 15/50\n",
      "448/448 [==============================] - ETA: 0s - loss: 1.0870 - accuracy: 0.5934\n",
      "Epoch 15: val_loss did not improve from 1.10553\n",
      "448/448 [==============================] - 203s 454ms/step - loss: 1.0870 - accuracy: 0.5934 - val_loss: 1.1271 - val_accuracy: 0.5742\n",
      "Epoch 16/50\n",
      "448/448 [==============================] - ETA: 0s - loss: 1.0675 - accuracy: 0.6018\n",
      "Epoch 16: val_loss did not improve from 1.10553\n",
      "448/448 [==============================] - 263s 586ms/step - loss: 1.0675 - accuracy: 0.6018 - val_loss: 1.1124 - val_accuracy: 0.5781\n",
      "Epoch 17/50\n",
      "448/448 [==============================] - ETA: 0s - loss: 1.0626 - accuracy: 0.6010\n",
      "Epoch 17: val_loss did not improve from 1.10553\n",
      "448/448 [==============================] - 208s 465ms/step - loss: 1.0626 - accuracy: 0.6010 - val_loss: 1.1094 - val_accuracy: 0.5809\n",
      "Epoch 18/50\n",
      "448/448 [==============================] - ETA: 0s - loss: 1.0491 - accuracy: 0.6054\n",
      "Epoch 18: val_loss did not improve from 1.10553\n",
      "448/448 [==============================] - 192s 428ms/step - loss: 1.0491 - accuracy: 0.6054 - val_loss: 1.1490 - val_accuracy: 0.5792\n",
      "Epoch 19/50\n",
      "448/448 [==============================] - ETA: 0s - loss: 1.0396 - accuracy: 0.6072\n",
      "Epoch 19: val_loss improved from 1.10553 to 1.08982, saving model to model.h5\n",
      "448/448 [==============================] - 201s 448ms/step - loss: 1.0396 - accuracy: 0.6072 - val_loss: 1.0898 - val_accuracy: 0.5879\n",
      "Epoch 20/50\n",
      "448/448 [==============================] - ETA: 0s - loss: 1.0283 - accuracy: 0.6136\n",
      "Epoch 20: val_loss improved from 1.08982 to 1.07679, saving model to model.h5\n",
      "448/448 [==============================] - 192s 428ms/step - loss: 1.0283 - accuracy: 0.6136 - val_loss: 1.0768 - val_accuracy: 0.5901\n",
      "Epoch 21/50\n",
      "448/448 [==============================] - ETA: 0s - loss: 1.0202 - accuracy: 0.6190\n",
      "Epoch 21: val_loss improved from 1.07679 to 1.03370, saving model to model.h5\n",
      "448/448 [==============================] - 186s 415ms/step - loss: 1.0202 - accuracy: 0.6190 - val_loss: 1.0337 - val_accuracy: 0.6152\n",
      "Epoch 22/50\n",
      "448/448 [==============================] - ETA: 0s - loss: 1.0143 - accuracy: 0.6195\n",
      "Epoch 22: val_loss did not improve from 1.03370\n",
      "448/448 [==============================] - 185s 413ms/step - loss: 1.0143 - accuracy: 0.6195 - val_loss: 1.0986 - val_accuracy: 0.5871\n",
      "Epoch 23/50\n",
      "448/448 [==============================] - ETA: 0s - loss: 1.0094 - accuracy: 0.6218\n",
      "Epoch 23: val_loss did not improve from 1.03370\n",
      "448/448 [==============================] - 185s 413ms/step - loss: 1.0094 - accuracy: 0.6218 - val_loss: 1.0753 - val_accuracy: 0.5960\n",
      "Epoch 24/50\n",
      "448/448 [==============================] - ETA: 0s - loss: 0.9989 - accuracy: 0.6276\n",
      "Epoch 24: val_loss did not improve from 1.03370\n",
      "448/448 [==============================] - 185s 413ms/step - loss: 0.9989 - accuracy: 0.6276 - val_loss: 1.0643 - val_accuracy: 0.6013\n",
      "Epoch 25/50\n",
      "448/448 [==============================] - ETA: 0s - loss: 0.9886 - accuracy: 0.6290\n",
      "Epoch 25: val_loss did not improve from 1.03370\n",
      "448/448 [==============================] - 185s 413ms/step - loss: 0.9886 - accuracy: 0.6290 - val_loss: 1.0736 - val_accuracy: 0.6074\n",
      "Epoch 26/50\n",
      "448/448 [==============================] - ETA: 0s - loss: 0.9904 - accuracy: 0.6313\n",
      "Epoch 26: val_loss did not improve from 1.03370\n",
      "448/448 [==============================] - 185s 412ms/step - loss: 0.9904 - accuracy: 0.6313 - val_loss: 1.0830 - val_accuracy: 0.5946\n",
      "Epoch 27/50\n",
      "448/448 [==============================] - ETA: 0s - loss: 0.9840 - accuracy: 0.6319\n",
      "Epoch 27: val_loss did not improve from 1.03370\n",
      "448/448 [==============================] - 188s 419ms/step - loss: 0.9840 - accuracy: 0.6319 - val_loss: 1.0742 - val_accuracy: 0.6021\n",
      "Epoch 28/50\n",
      "448/448 [==============================] - ETA: 0s - loss: 0.9705 - accuracy: 0.6359\n",
      "Epoch 28: val_loss improved from 1.03370 to 1.02337, saving model to model.h5\n",
      "448/448 [==============================] - 187s 417ms/step - loss: 0.9705 - accuracy: 0.6359 - val_loss: 1.0234 - val_accuracy: 0.6144\n"
     ]
    },
    {
     "name": "stdout",
     "output_type": "stream",
     "text": [
      "Epoch 29/50\n",
      "448/448 [==============================] - ETA: 0s - loss: 0.9672 - accuracy: 0.6392\n",
      "Epoch 29: val_loss improved from 1.02337 to 1.01361, saving model to model.h5\n",
      "448/448 [==============================] - 186s 415ms/step - loss: 0.9672 - accuracy: 0.6392 - val_loss: 1.0136 - val_accuracy: 0.6161\n",
      "Epoch 30/50\n",
      "448/448 [==============================] - ETA: 0s - loss: 0.9625 - accuracy: 0.6402\n",
      "Epoch 30: val_loss did not improve from 1.01361\n",
      "448/448 [==============================] - 186s 415ms/step - loss: 0.9625 - accuracy: 0.6402 - val_loss: 1.0318 - val_accuracy: 0.6088\n",
      "Epoch 31/50\n",
      "448/448 [==============================] - ETA: 0s - loss: 0.9531 - accuracy: 0.6429\n",
      "Epoch 31: val_loss did not improve from 1.01361\n",
      "448/448 [==============================] - 187s 417ms/step - loss: 0.9531 - accuracy: 0.6429 - val_loss: 1.0909 - val_accuracy: 0.6027\n",
      "Epoch 32/50\n",
      "448/448 [==============================] - ETA: 0s - loss: 0.9459 - accuracy: 0.6475\n",
      "Epoch 32: val_loss improved from 1.01361 to 1.00287, saving model to model.h5\n",
      "448/448 [==============================] - 187s 417ms/step - loss: 0.9459 - accuracy: 0.6475 - val_loss: 1.0029 - val_accuracy: 0.6283\n",
      "Epoch 33/50\n",
      "448/448 [==============================] - ETA: 0s - loss: 0.9455 - accuracy: 0.6452\n",
      "Epoch 33: val_loss did not improve from 1.00287\n",
      "448/448 [==============================] - 186s 415ms/step - loss: 0.9455 - accuracy: 0.6452 - val_loss: 1.0388 - val_accuracy: 0.6219\n",
      "Epoch 34/50\n",
      "448/448 [==============================] - ETA: 0s - loss: 0.9355 - accuracy: 0.6497\n",
      "Epoch 34: val_loss did not improve from 1.00287\n",
      "448/448 [==============================] - 187s 417ms/step - loss: 0.9355 - accuracy: 0.6497 - val_loss: 1.0392 - val_accuracy: 0.6113\n",
      "Epoch 35/50\n",
      "448/448 [==============================] - ETA: 0s - loss: 0.9295 - accuracy: 0.6511\n",
      "Epoch 35: val_loss did not improve from 1.00287\n",
      "448/448 [==============================] - 186s 416ms/step - loss: 0.9295 - accuracy: 0.6511 - val_loss: 1.0262 - val_accuracy: 0.6150\n",
      "Epoch 36/50\n",
      "448/448 [==============================] - ETA: 0s - loss: 0.9200 - accuracy: 0.6556\n",
      "Epoch 36: val_loss did not improve from 1.00287\n",
      "448/448 [==============================] - 187s 417ms/step - loss: 0.9200 - accuracy: 0.6556 - val_loss: 1.0654 - val_accuracy: 0.6069\n",
      "Epoch 37/50\n",
      "448/448 [==============================] - ETA: 0s - loss: 0.9218 - accuracy: 0.6530\n",
      "Epoch 37: val_loss did not improve from 1.00287\n",
      "448/448 [==============================] - 187s 417ms/step - loss: 0.9218 - accuracy: 0.6530 - val_loss: 1.0133 - val_accuracy: 0.6219\n",
      "Epoch 38/50\n",
      "448/448 [==============================] - ETA: 0s - loss: 0.9168 - accuracy: 0.6582\n",
      "Epoch 38: val_loss did not improve from 1.00287\n",
      "448/448 [==============================] - 187s 416ms/step - loss: 0.9168 - accuracy: 0.6582 - val_loss: 1.0468 - val_accuracy: 0.6152\n",
      "Epoch 39/50\n",
      "448/448 [==============================] - ETA: 0s - loss: 0.9127 - accuracy: 0.6595\n",
      "Epoch 39: val_loss improved from 1.00287 to 0.99818, saving model to model.h5\n",
      "448/448 [==============================] - 205s 457ms/step - loss: 0.9127 - accuracy: 0.6595 - val_loss: 0.9982 - val_accuracy: 0.6283\n",
      "Epoch 40/50\n",
      "448/448 [==============================] - ETA: 0s - loss: 0.9120 - accuracy: 0.6604\n",
      "Epoch 40: val_loss did not improve from 0.99818\n",
      "448/448 [==============================] - 219s 488ms/step - loss: 0.9120 - accuracy: 0.6604 - val_loss: 1.0435 - val_accuracy: 0.6219\n",
      "Epoch 41/50\n",
      "448/448 [==============================] - ETA: 0s - loss: 0.9063 - accuracy: 0.6608\n",
      "Epoch 41: val_loss did not improve from 0.99818\n",
      "448/448 [==============================] - 219s 488ms/step - loss: 0.9063 - accuracy: 0.6608 - val_loss: 1.0559 - val_accuracy: 0.6189\n",
      "Epoch 42/50\n",
      "448/448 [==============================] - ETA: 0s - loss: 0.9042 - accuracy: 0.6619\n",
      "Epoch 42: val_loss did not improve from 0.99818\n",
      "448/448 [==============================] - 222s 496ms/step - loss: 0.9042 - accuracy: 0.6619 - val_loss: 1.0243 - val_accuracy: 0.6323\n",
      "Epoch 43/50\n",
      "448/448 [==============================] - ETA: 0s - loss: 0.9020 - accuracy: 0.6648\n",
      "Epoch 43: val_loss did not improve from 0.99818\n",
      "448/448 [==============================] - 223s 498ms/step - loss: 0.9020 - accuracy: 0.6648 - val_loss: 1.0263 - val_accuracy: 0.6256\n",
      "Epoch 44/50\n",
      "448/448 [==============================] - ETA: 0s - loss: 0.8912 - accuracy: 0.6693\n",
      "Epoch 44: val_loss did not improve from 0.99818\n",
      "448/448 [==============================] - 212s 472ms/step - loss: 0.8912 - accuracy: 0.6693 - val_loss: 1.0748 - val_accuracy: 0.6094\n",
      "Epoch 45/50\n",
      "448/448 [==============================] - ETA: 0s - loss: 0.8924 - accuracy: 0.6678\n",
      "Epoch 45: val_loss improved from 0.99818 to 0.98049, saving model to model.h5\n",
      "448/448 [==============================] - 230s 512ms/step - loss: 0.8924 - accuracy: 0.6678 - val_loss: 0.9805 - val_accuracy: 0.6412\n",
      "Epoch 46/50\n",
      "448/448 [==============================] - ETA: 0s - loss: 0.8917 - accuracy: 0.6660\n",
      "Epoch 46: val_loss did not improve from 0.98049\n",
      "448/448 [==============================] - 216s 482ms/step - loss: 0.8917 - accuracy: 0.6660 - val_loss: 1.0345 - val_accuracy: 0.6194\n",
      "Epoch 47/50\n",
      "448/448 [==============================] - ETA: 0s - loss: 0.8819 - accuracy: 0.6706\n",
      "Epoch 47: val_loss did not improve from 0.98049\n",
      "448/448 [==============================] - 201s 448ms/step - loss: 0.8819 - accuracy: 0.6706 - val_loss: 1.3389 - val_accuracy: 0.5862\n",
      "Epoch 48/50\n",
      "448/448 [==============================] - ETA: 0s - loss: 0.8860 - accuracy: 0.6715\n",
      "Epoch 48: val_loss did not improve from 0.98049\n",
      "448/448 [==============================] - 223s 498ms/step - loss: 0.8860 - accuracy: 0.6715 - val_loss: 1.0221 - val_accuracy: 0.6345\n",
      "Epoch 49/50\n",
      "448/448 [==============================] - ETA: 0s - loss: 0.8754 - accuracy: 0.6724\n",
      "Epoch 49: val_loss did not improve from 0.98049\n",
      "448/448 [==============================] - 211s 471ms/step - loss: 0.8754 - accuracy: 0.6724 - val_loss: 1.0419 - val_accuracy: 0.6233\n",
      "Epoch 50/50\n",
      "448/448 [==============================] - ETA: 0s - loss: 0.8739 - accuracy: 0.6758\n",
      "Epoch 50: val_loss did not improve from 0.98049\n",
      "448/448 [==============================] - 192s 429ms/step - loss: 0.8739 - accuracy: 0.6758 - val_loss: 1.0756 - val_accuracy: 0.6200\n"
     ]
    }
   ],
   "source": [
    "model.compile(loss='categorical_crossentropy', optimizer='adam', metrics=['accuracy'])\n",
    "checkpoint = ModelCheckpoint('emotion_model.h5', monitor='val_loss', save_best_only=True, mode='min', verbose=1)\n",
    "\n",
    "history = model.fit(\n",
    "    train_generator,\n",
    "    steps_per_epoch=train_generator.n // train_generator.batch_size,\n",
    "    epochs=50,\n",
    "    validation_data=val_generator,\n",
    "    validation_steps=val_generator.n // val_generator.batch_size,\n",
    "    callbacks=[checkpoint])"
   ]
  },
  {
   "cell_type": "code",
   "execution_count": 53,
   "metadata": {},
   "outputs": [
    {
     "name": "stdout",
     "output_type": "stream",
     "text": [
      "113/113 [==============================] - 5s 45ms/step - loss: 1.0101 - accuracy: 0.6397\n",
      "test caccuracy: 0.6397325396537781\n"
     ]
    }
   ],
   "source": [
    "test_loss, test_acc = model.evaluate(test_images, test_labels)\n",
    "print('test caccuracy:', test_acc)"
   ]
  },
  {
   "cell_type": "code",
   "execution_count": null,
   "metadata": {},
   "outputs": [],
   "source": []
  }
 ],
 "metadata": {
  "kernelspec": {
   "display_name": "Python 3",
   "language": "python",
   "name": "python3"
  },
  "language_info": {
   "codemirror_mode": {
    "name": "ipython",
    "version": 3
   },
   "file_extension": ".py",
   "mimetype": "text/x-python",
   "name": "python",
   "nbconvert_exporter": "python",
   "pygments_lexer": "ipython3",
   "version": "3.8.5"
  }
 },
 "nbformat": 4,
 "nbformat_minor": 4
}
